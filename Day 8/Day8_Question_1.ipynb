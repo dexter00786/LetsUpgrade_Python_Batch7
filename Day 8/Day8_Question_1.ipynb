{
  "nbformat": 4,
  "nbformat_minor": 0,
  "metadata": {
    "colab": {
      "name": "Day8 Question 1.ipynb",
      "provenance": []
    },
    "kernelspec": {
      "name": "python3",
      "display_name": "Python 3"
    }
  },
  "cells": [
    {
      "cell_type": "code",
      "metadata": {
        "id": "BI8tB92HKq5V",
        "colab_type": "code",
        "colab": {
          "base_uri": "https://localhost:8080/",
          "height": 151
        },
        "outputId": "fcb53087-8187-4a4d-d520-76d7ab0612cb"
      },
      "source": [
        "\n",
        "# Decorator\n",
        "\n",
        "def getInput(calculate_arg_fun):\n",
        "    \n",
        "    def wrap_function():\n",
        "    \n",
        "        a = int(input(\"\\nEnter First Number - \"))\n",
        "        \n",
        "        b = int(input(\"\\nEnter Second Number - \"))\n",
        "        \n",
        "        calculate_arg_fun(a,b)   \n",
        "    \n",
        "    return wrap_function\n",
        "    # calling decorator for input\n",
        "\n",
        "@getInput\n",
        "\n",
        "def EvenFinder(start, last):\n",
        "    \n",
        "    print(\"\\nThe Even numbers in the range\",start,\"to\",last,\"is :\\n\")\n",
        "\n",
        "    for n in range(start, last + 1): \n",
        "      \n",
        "        if n % 2 == 0: \n",
        "            \n",
        "            print(n, end = \" \")\n",
        "EvenFinder()"
      ],
      "execution_count": 2,
      "outputs": [
        {
          "output_type": "stream",
          "text": [
            "\n",
            "Enter First Number - 1\n",
            "\n",
            "Enter Second Number - 100\n",
            "\n",
            "The Even numbers in the range 1 to 100 is :\n",
            "\n",
            "2 4 6 8 10 12 14 16 18 20 22 24 26 28 30 32 34 36 38 40 42 44 46 48 50 52 54 56 58 60 62 64 66 68 70 72 74 76 78 80 82 84 86 88 90 92 94 96 98 100 "
          ],
          "name": "stdout"
        }
      ]
    }
  ]
}