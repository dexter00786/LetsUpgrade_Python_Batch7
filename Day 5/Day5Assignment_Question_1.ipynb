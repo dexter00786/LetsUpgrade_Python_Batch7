{
  "nbformat": 4,
  "nbformat_minor": 0,
  "metadata": {
    "colab": {
      "name": "Day5Assignment Question 1.ipynb",
      "provenance": []
    },
    "kernelspec": {
      "name": "python3",
      "display_name": "Python 3"
    }
  },
  "cells": [
    {
      "cell_type": "markdown",
      "metadata": {
        "id": "Ujbo-WvdA0HI",
        "colab_type": "text"
      },
      "source": [
        "#Question 1"
      ]
    },
    {
      "cell_type": "code",
      "metadata": {
        "id": "uB4KFD6aA5og",
        "colab_type": "code",
        "colab": {
          "base_uri": "https://localhost:8080/",
          "height": 218
        },
        "outputId": "73d63a27-a90b-4eb9-fd05-5623e844158b"
      },
      "source": [
        "lst = [1, 1, 5]\n",
        "\n",
        "lst1 = []\n",
        "\n",
        "l = int(input(\"\\nEnter the length of the list : \"))\n",
        "\n",
        "j = 0;\n",
        "\n",
        "# creating a list from user value\n",
        "\n",
        "for i in range (0,l):\n",
        "\n",
        "    lst1.append(int(input(\"\\nEnter the number for the list : \")))\n",
        "\n",
        "print()\n",
        "\n",
        "print(\"List is : \", lst1)\n",
        "\n",
        "for i in range(0,l):\n",
        "    \n",
        "    if( lst1[i] == lst[j] ):\n",
        "        \n",
        "         j += 1\n",
        "        \n",
        "         i += 1\n",
        "        \n",
        "    else:\n",
        "        \n",
        "        i +=1\n",
        "    \n",
        "if( j == 3 ):\n",
        "   print (\"\\nIt's a match\")\n",
        "\n",
        "else:\n",
        "\n",
        "    print (\"\\nIt's Gone\")\n"
      ],
      "execution_count": 3,
      "outputs": [
        {
          "output_type": "stream",
          "text": [
            "\n",
            "Enter the length of the list : 3\n",
            "\n",
            "Enter the number for the list : 1\n",
            "\n",
            "Enter the number for the list : 1\n",
            "\n",
            "Enter the number for the list : 5\n",
            "\n",
            "List is :  [1, 1, 5]\n",
            "\n",
            "It's a match\n"
          ],
          "name": "stdout"
        }
      ]
    }
  ]
}