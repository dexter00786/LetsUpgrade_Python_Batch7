{
  "nbformat": 4,
  "nbformat_minor": 0,
  "metadata": {
    "colab": {
      "name": "Day5Assignment Question 3.ipynb",
      "provenance": []
    },
    "kernelspec": {
      "name": "python3",
      "display_name": "Python 3"
    }
  },
  "cells": [
    {
      "cell_type": "markdown",
      "metadata": {
        "id": "GTgzBEEhESPq",
        "colab_type": "text"
      },
      "source": [
        "#Question 3\n"
      ]
    },
    {
      "cell_type": "code",
      "metadata": {
        "id": "w9prxPGEEXeb",
        "colab_type": "code",
        "colab": {}
      },
      "source": [
        "# Make a Lambda function for capitalizing the whole sentence passed using arguments.\n",
        "# And map all the sentences in the List, with the lambda functions\n",
        "\n",
        "lst = [\"hey this i ajay\",\"i am from chennai\"]\n",
        "\n",
        "print(\"\\nOriginal list : \\n\")\n",
        "\n",
        "print(lst)\n",
        "\n",
        "result = list(map(lambda words: \" \".join([word.capitalize() for word in words.split( )]) ,lst))\n",
        "\n",
        "print(\"\\nCapitalized list is : \\n\")\n",
        "\n",
        "print(result)"
      ],
      "execution_count": null,
      "outputs": []
    }
  ]
}