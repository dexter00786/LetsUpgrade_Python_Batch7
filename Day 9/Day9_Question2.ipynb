{
  "nbformat": 4,
  "nbformat_minor": 0,
  "metadata": {
    "colab": {
      "name": "Day9 Question2.ipynb",
      "provenance": []
    },
    "kernelspec": {
      "name": "python3",
      "display_name": "Python 3"
    }
  },
  "cells": [
    {
      "cell_type": "markdown",
      "metadata": {
        "id": "ZiwRJ15WOLnD",
        "colab_type": "text"
      },
      "source": [
        "#Question 2\n"
      ]
    },
    {
      "cell_type": "code",
      "metadata": {
        "id": "-_NNjZXxOPiQ",
        "colab_type": "code",
        "colab": {
          "base_uri": "https://localhost:8080/",
          "height": 34
        },
        "outputId": "f61c54a0-e9ac-4731-92b0-035eecfd45a8"
      },
      "source": [
        "lst = list(range(1,1000+1))\n",
        "# Generator to generate armstrong number\n",
        "\n",
        "def armstrong(lst):    \n",
        "    for num in lst:\n",
        "        s = 0\n",
        "        temp = num\n",
        "        while temp > 0:\n",
        "            d = temp % 10\n",
        "            s += d ** 3\n",
        "            temp //= 10\n",
        "        if num == s:\n",
        "            yield num\n",
        "            \n",
        "print(list(armstrong(lst)))"
      ],
      "execution_count": 7,
      "outputs": [
        {
          "output_type": "stream",
          "text": [
            "[1, 153, 370, 371, 407]\n"
          ],
          "name": "stdout"
        }
      ]
    }
  ]
}