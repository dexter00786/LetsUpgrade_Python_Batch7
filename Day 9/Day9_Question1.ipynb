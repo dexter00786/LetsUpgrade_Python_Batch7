{
  "nbformat": 4,
  "nbformat_minor": 0,
  "metadata": {
    "colab": {
      "name": "Day9 Question1.ipynb",
      "provenance": []
    },
    "kernelspec": {
      "name": "python3",
      "display_name": "Python 3"
    }
  },
  "cells": [
    {
      "cell_type": "markdown",
      "metadata": {
        "id": "IiLcp9eiNWbY",
        "colab_type": "text"
      },
      "source": [
        "#Question 1\n"
      ]
    },
    {
      "cell_type": "code",
      "metadata": {
        "id": "vGQPytGkNhxl",
        "colab_type": "code",
        "colab": {
          "base_uri": "https://localhost:8080/",
          "height": 406
        },
        "outputId": "b66ddfc3-b298-4aa4-b7a7-bbb469d63980"
      },
      "source": [
        "# downloading pylint\n",
        "\n",
        "! pip install pylint"
      ],
      "execution_count": 1,
      "outputs": [
        {
          "output_type": "stream",
          "text": [
            "Collecting pylint\n",
            "\u001b[?25l  Downloading https://files.pythonhosted.org/packages/fb/13/519c1264a134beab2be4bac8dd3e64948980a5ca7833b31cf0255b21f20a/pylint-2.6.0-py3-none-any.whl (325kB)\n",
            "\r\u001b[K     |█                               | 10kB 14.7MB/s eta 0:00:01\r\u001b[K     |██                              | 20kB 1.8MB/s eta 0:00:01\r\u001b[K     |███                             | 30kB 2.3MB/s eta 0:00:01\r\u001b[K     |████                            | 40kB 2.5MB/s eta 0:00:01\r\u001b[K     |█████                           | 51kB 2.0MB/s eta 0:00:01\r\u001b[K     |██████                          | 61kB 2.3MB/s eta 0:00:01\r\u001b[K     |███████                         | 71kB 2.6MB/s eta 0:00:01\r\u001b[K     |████████                        | 81kB 2.7MB/s eta 0:00:01\r\u001b[K     |█████████                       | 92kB 3.0MB/s eta 0:00:01\r\u001b[K     |██████████                      | 102kB 2.9MB/s eta 0:00:01\r\u001b[K     |███████████                     | 112kB 2.9MB/s eta 0:00:01\r\u001b[K     |████████████                    | 122kB 2.9MB/s eta 0:00:01\r\u001b[K     |█████████████                   | 133kB 2.9MB/s eta 0:00:01\r\u001b[K     |██████████████                  | 143kB 2.9MB/s eta 0:00:01\r\u001b[K     |███████████████                 | 153kB 2.9MB/s eta 0:00:01\r\u001b[K     |████████████████                | 163kB 2.9MB/s eta 0:00:01\r\u001b[K     |█████████████████               | 174kB 2.9MB/s eta 0:00:01\r\u001b[K     |██████████████████              | 184kB 2.9MB/s eta 0:00:01\r\u001b[K     |███████████████████▏            | 194kB 2.9MB/s eta 0:00:01\r\u001b[K     |████████████████████▏           | 204kB 2.9MB/s eta 0:00:01\r\u001b[K     |█████████████████████▏          | 215kB 2.9MB/s eta 0:00:01\r\u001b[K     |██████████████████████▏         | 225kB 2.9MB/s eta 0:00:01\r\u001b[K     |███████████████████████▏        | 235kB 2.9MB/s eta 0:00:01\r\u001b[K     |████████████████████████▏       | 245kB 2.9MB/s eta 0:00:01\r\u001b[K     |█████████████████████████▏      | 256kB 2.9MB/s eta 0:00:01\r\u001b[K     |██████████████████████████▏     | 266kB 2.9MB/s eta 0:00:01\r\u001b[K     |███████████████████████████▏    | 276kB 2.9MB/s eta 0:00:01\r\u001b[K     |████████████████████████████▏   | 286kB 2.9MB/s eta 0:00:01\r\u001b[K     |█████████████████████████████▏  | 296kB 2.9MB/s eta 0:00:01\r\u001b[K     |██████████████████████████████▏ | 307kB 2.9MB/s eta 0:00:01\r\u001b[K     |███████████████████████████████▏| 317kB 2.9MB/s eta 0:00:01\r\u001b[K     |████████████████████████████████| 327kB 2.9MB/s \n",
            "\u001b[?25hCollecting mccabe<0.7,>=0.6\n",
            "  Downloading https://files.pythonhosted.org/packages/87/89/479dc97e18549e21354893e4ee4ef36db1d237534982482c3681ee6e7b57/mccabe-0.6.1-py2.py3-none-any.whl\n",
            "Requirement already satisfied: toml>=0.7.1 in /usr/local/lib/python3.6/dist-packages (from pylint) (0.10.1)\n",
            "Collecting astroid<=2.5,>=2.4.0\n",
            "\u001b[?25l  Downloading https://files.pythonhosted.org/packages/24/a8/5133f51967fb21e46ee50831c3f5dda49e976b7f915408d670b1603d41d6/astroid-2.4.2-py3-none-any.whl (213kB)\n",
            "\u001b[K     |████████████████████████████████| 215kB 9.3MB/s \n",
            "\u001b[?25hCollecting isort<6,>=4.2.5\n",
            "\u001b[?25l  Downloading https://files.pythonhosted.org/packages/d1/25/7ed95ccb07d3ce52598f5a57d002da6a18074ea8749991b10936cc20e539/isort-5.5.2-py3-none-any.whl (95kB)\n",
            "\u001b[K     |████████████████████████████████| 102kB 5.5MB/s \n",
            "\u001b[?25hCollecting typed-ast<1.5,>=1.4.0; implementation_name == \"cpython\" and python_version < \"3.8\"\n",
            "\u001b[?25l  Downloading https://files.pythonhosted.org/packages/90/ed/5459080d95eb87a02fe860d447197be63b6e2b5e9ff73c2b0a85622994f4/typed_ast-1.4.1-cp36-cp36m-manylinux1_x86_64.whl (737kB)\n",
            "\u001b[K     |████████████████████████████████| 747kB 12.3MB/s \n",
            "\u001b[?25hRequirement already satisfied: six~=1.12 in /usr/local/lib/python3.6/dist-packages (from astroid<=2.5,>=2.4.0->pylint) (1.15.0)\n",
            "Collecting lazy-object-proxy==1.4.*\n",
            "\u001b[?25l  Downloading https://files.pythonhosted.org/packages/0b/dd/b1e3407e9e6913cf178e506cd0dee818e58694d9a5cd1984e3f6a8b9a10f/lazy_object_proxy-1.4.3-cp36-cp36m-manylinux1_x86_64.whl (55kB)\n",
            "\u001b[K     |████████████████████████████████| 61kB 5.9MB/s \n",
            "\u001b[?25hRequirement already satisfied: wrapt~=1.11 in /usr/local/lib/python3.6/dist-packages (from astroid<=2.5,>=2.4.0->pylint) (1.12.1)\n",
            "Installing collected packages: mccabe, typed-ast, lazy-object-proxy, astroid, isort, pylint\n",
            "Successfully installed astroid-2.4.2 isort-5.5.2 lazy-object-proxy-1.4.3 mccabe-0.6.1 pylint-2.6.0 typed-ast-1.4.1\n"
          ],
          "name": "stdout"
        }
      ]
    },
    {
      "cell_type": "code",
      "metadata": {
        "id": "XfdQCKmVNpof",
        "colab_type": "code",
        "colab": {
          "base_uri": "https://localhost:8080/",
          "height": 34
        },
        "outputId": "07e6be16-aa8c-4710-a9d9-a48616eeed2f"
      },
      "source": [
        "%%writefile prime.py\n",
        "\n",
        "'''\n",
        "Creating a python file for finding whethere the given number is prime number or not.\n",
        "'''\n",
        "\n",
        "def is_prime(given_no):\n",
        "    '''\n",
        "    function to check for prime number.\n",
        "    '''\n",
        "    if given_no >= 1:\n",
        "        for i in range(2, given_no):\n",
        "            if (given_no % i) == 0:\n",
        "                final_result=\"Not Prime\"\n",
        "            else:\n",
        "                final_result=\"Prime\"\n",
        "    else:\n",
        "        final_result=\"Not Prime\"\n",
        "    return final_result"
      ],
      "execution_count": 2,
      "outputs": [
        {
          "output_type": "stream",
          "text": [
            "Writing prime.py\n"
          ],
          "name": "stdout"
        }
      ]
    },
    {
      "cell_type": "code",
      "metadata": {
        "id": "3gJ1glUONu68",
        "colab_type": "code",
        "colab": {
          "base_uri": "https://localhost:8080/",
          "height": 118
        },
        "outputId": "fe54f0b9-a28d-4674-d47b-f5ba2b48e6c2"
      },
      "source": [
        "! pylint \"prime.py\""
      ],
      "execution_count": 3,
      "outputs": [
        {
          "output_type": "stream",
          "text": [
            "************* Module prime\n",
            "prime.py:18:0: C0304: Final newline missing (missing-final-newline)\n",
            "\n",
            "-----------------------------------\n",
            "Your code has been rated at 8.75/10\n",
            "\n"
          ],
          "name": "stdout"
        }
      ]
    },
    {
      "cell_type": "code",
      "metadata": {
        "id": "TYNRWQDdN0qI",
        "colab_type": "code",
        "colab": {
          "base_uri": "https://localhost:8080/",
          "height": 34
        },
        "outputId": "0c652883-6615-4471-89fe-576876c30094"
      },
      "source": [
        "%%writefile primeUnitTest.py\n",
        "\n",
        "import unittest\n",
        "import prime\n",
        "\n",
        "class testPrime(unittest.TestCase):\n",
        "    def testSinglePrime(self):\n",
        "        a = 3\n",
        "        result = prime.is_prime(a)\n",
        "        self.assertEquals(result, \"Prime\")\n",
        "        \n",
        "    def testingDoublePrime(self):\n",
        "        b = 11 \n",
        "        result = prime.is_prime(b)\n",
        "        self.assertEquals(result, \"Prime\")\n",
        "\n",
        "if __name__ == \"__main__\":\n",
        "    unittest.main()"
      ],
      "execution_count": 4,
      "outputs": [
        {
          "output_type": "stream",
          "text": [
            "Writing primeUnitTest.py\n"
          ],
          "name": "stdout"
        }
      ]
    },
    {
      "cell_type": "code",
      "metadata": {
        "id": "nzVIOmq4N6KD",
        "colab_type": "code",
        "colab": {
          "base_uri": "https://localhost:8080/",
          "height": 101
        },
        "outputId": "5c2ac4b4-01ee-4a46-dad5-745fac18d55f"
      },
      "source": [
        "! python \"primeUnitTest.py\""
      ],
      "execution_count": 5,
      "outputs": [
        {
          "output_type": "stream",
          "text": [
            "..\n",
            "----------------------------------------------------------------------\n",
            "Ran 2 tests in 0.000s\n",
            "\n",
            "OK\n"
          ],
          "name": "stdout"
        }
      ]
    }
  ]
}