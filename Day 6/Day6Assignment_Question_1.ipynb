{
  "nbformat": 4,
  "nbformat_minor": 0,
  "metadata": {
    "colab": {
      "name": "Day6Assignment Question 1.ipynb",
      "provenance": []
    },
    "kernelspec": {
      "name": "python3",
      "display_name": "Python 3"
    }
  },
  "cells": [
    {
      "cell_type": "markdown",
      "metadata": {
        "id": "zA_LJ0H_8K0p",
        "colab_type": "text"
      },
      "source": [
        "**Question 1**"
      ]
    },
    {
      "cell_type": "code",
      "metadata": {
        "id": "AqZUr6qz8RR0",
        "colab_type": "code",
        "colab": {
          "base_uri": "https://localhost:8080/",
          "height": 269
        },
        "outputId": "b7a33d94-1ef0-48bf-8250-9c24a16c93da"
      },
      "source": [
        "class BankAccount:\n",
        "  def __init__(self):\n",
        "    self.name = \"Sachin\"\n",
        "    self.balance = 1000000\n",
        "\n",
        "  def getDetails(self):\n",
        "      print(\"Account holder :\",self.name)\n",
        "      print(\"Account balance :\",self.balance) \n",
        "\n",
        "  def Deposit(self):\n",
        "    amount = int(input(\"\\nEnter the Amount to be Deposited : \"))\n",
        "    self.balance+= amount\n",
        "    print(\"\\nAmount Deposited is :\",amount)\n",
        "    print(\"\\nNet Available Balance :\",self.balance)\n",
        "  \n",
        "  def WithDraw(self):\n",
        "    amount = int(input(\"\\nEnter the amount to be Withdraw : \")) \n",
        "    if self.balance > amount:\n",
        "      self.balance -= amount\n",
        "    else:\n",
        "      print(\"\\nInsufficient Balance\")\n",
        "    print(\"\\nAmount Withdrawn :\",amount)\n",
        "    print(\"\\nNet Available Balance :\",self.balance)\n",
        "print(\"--Welcome To The LetsUpgrade Bank---- \")\n",
        "p1 = BankAccount()\n",
        "p1.getDetails();\n",
        "p1.Deposit()   \n",
        "p1.WithDraw() "
      ],
      "execution_count": 16,
      "outputs": [
        {
          "output_type": "stream",
          "text": [
            "--Welcome To The LetsUpgrade Bank---- \n",
            "Account holder : Sachin\n",
            "Account balance : 1000000\n",
            "\n",
            "Enter the Amount to be Deposited : 100\n",
            "\n",
            "Amount Deposited is : 100\n",
            "\n",
            "Net Available Balance : 1000100\n",
            "\n",
            "Enter the amount to be Withdraw : 200\n",
            "\n",
            "Amount Withdrawn : 200\n",
            "\n",
            "Net Available Balance : 999900\n"
          ],
          "name": "stdout"
        }
      ]
    }
  ]
}