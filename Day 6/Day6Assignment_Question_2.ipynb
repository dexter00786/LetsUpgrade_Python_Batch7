{
  "nbformat": 4,
  "nbformat_minor": 0,
  "metadata": {
    "colab": {
      "name": "Day6Assignment Question 2.ipynb",
      "provenance": []
    },
    "kernelspec": {
      "name": "python3",
      "display_name": "Python 3"
    }
  },
  "cells": [
    {
      "cell_type": "code",
      "metadata": {
        "id": "9aoZrgqM8iG1",
        "colab_type": "code",
        "colab": {}
      },
      "source": [
        ""
      ],
      "execution_count": null,
      "outputs": []
    },
    {
      "cell_type": "markdown",
      "metadata": {
        "id": "W0iEiFoE86Wn",
        "colab_type": "text"
      },
      "source": [
        "#Question 2"
      ]
    },
    {
      "cell_type": "code",
      "metadata": {
        "id": "QiPbEqGM9Cv-",
        "colab_type": "code",
        "colab": {
          "base_uri": "https://localhost:8080/",
          "height": 151
        },
        "outputId": "c004334c-7169-4b08-def7-3bbe7c6b7d02"
      },
      "source": [
        "import math\n",
        "\n",
        "pi = math.pi\n",
        "\n",
        "class Cone:\n",
        "  def __init__(self,r,h):\n",
        "    self.r = r\n",
        "    self.h = h\n",
        "\n",
        "  def Volume(self):\n",
        "    result = (1/3)*pi*self.r*self.r*self.h\n",
        "    print(\"\\nVolume of the cone is \",result)\n",
        "  \n",
        "  def SurfaceArea(self):\n",
        "    result = pi * self.r * self.h + pi * self.r * self.r\n",
        "    print(\"\\nsurface Area of the cone is \",result)\n",
        "\n",
        "r = float(input(\"\\nEnter the radius of cone : \"))\n",
        "h = float(input(\"\\nEnter the height of cone : \"))\n",
        "\n",
        "c = Cone( r, h)\n",
        "c.Volume()\n",
        "c.SurfaceArea()"
      ],
      "execution_count": 2,
      "outputs": [
        {
          "output_type": "stream",
          "text": [
            "\n",
            "Enter the radius of cone : 2\n",
            "\n",
            "Enter the height of cone : 6\n",
            "\n",
            "Volume of the cone is  25.132741228718345\n",
            "\n",
            "surface Area of the cone is  50.26548245743669\n"
          ],
          "name": "stdout"
        }
      ]
    }
  ]
}